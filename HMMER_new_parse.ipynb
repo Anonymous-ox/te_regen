{
 "metadata": {
  "language_info": {
   "codemirror_mode": {
    "name": "ipython",
    "version": 3
   },
   "file_extension": ".py",
   "mimetype": "text/x-python",
   "name": "python",
   "nbconvert_exporter": "python",
   "pygments_lexer": "ipython3",
   "version": "3.9.0-final"
  },
  "orig_nbformat": 2,
  "kernelspec": {
   "name": "python3",
   "display_name": "Python 3.9.0 64-bit",
   "metadata": {
    "interpreter": {
     "hash": "ac59ebe37160ed0dfa835113d9b8498d9f09ceb179beaac4002f036b9467c963"
    }
   }
  }
 },
 "nbformat": 4,
 "nbformat_minor": 2,
 "cells": [
  {
   "cell_type": "code",
   "execution_count": 1,
   "metadata": {},
   "outputs": [],
   "source": [
    "'''\n",
    "Input: query result (hmmer3-tab in folder E:\\HMMER_output\\)\n",
    "Output: visualisation of query result (parsing)\n",
    "'''\n",
    "import os\n",
    "import pandas\n",
    "\n",
    "def parsing(filename):\n",
    "    with open(filename) as handle:      #open and obtain contents from the result files\n",
    "        content = handle.readlines()\n",
    "\n",
    "    parse_target = []       #parse the results into a list\n",
    "    for i in range(0, len(content)):\n",
    "        temp = content[i]\n",
    "        if temp[0] != '#':\n",
    "            parse_target.append(temp[:-1])\n",
    "\n",
    "    filelist = []       #arrange elements into list of lists - for pandas dataframe conversion and export\n",
    "    for i in parse_target:      \n",
    "        temp = i.partition('Danio')\n",
    "        splitnum = str(temp[0]).split(\" \")\n",
    "        templist = []\n",
    "        for j in splitnum:\n",
    "            if j != '':\n",
    "                templist.append(j)\n",
    "        descr = temp[1] + temp[2]\n",
    "        templist.append(descr)\n",
    "        filelist.append(templist)\n",
    "    return filelist\n",
    "\n",
    "def main():\n",
    "    #obtain necessary elements for filename iteration\n",
    "    genelist = pandas.read_excel(r'F:\\Biology\\03 Grant_Proposal\\10 Mini-project\\Regen_rel_genes.xlsx')\n",
    "    list_genename = genelist['Gene'].to_list()\n",
    "    list_chrom = genelist['Genomic_coordinates'].to_list()\n",
    "    listlen = int(len(list_genename))\n",
    "    chrom = []\n",
    "    for i in list_chrom:\n",
    "        temp = i.partition(':')\n",
    "        chrom.append(temp[0])\n",
    "\n",
    "    path = r\"E:\\\\HMMER_output\\\\\"\n",
    "    os.chdir(path)\n",
    "    grandlist = []\n",
    "\n",
    "    #export the dataframe into a *.csv file\n",
    "    for i in range(0, listlen):    \n",
    "        filename = \"D.rerio_seqfrag_\" + list_genename[i] + \"_\" + chrom[i] + \"_output\"\n",
    "        filelist = parsing(filename)\n",
    "        grandlist.extend(filelist)\n",
    "    \n",
    "    df = pandas.DataFrame(grandlist, columns = ['target name', 'target accession', 'query name', 'query accession', 'query start pos', 'query end pos', 'target seq start pos', 'target seq end pos', 'envfrom', 'envto', 'target seq length', 'strand', 'E-value', 'bit score', 'bias', 'description']) #for detailed descriptions, see the HMMER user guide at http://eddylab.org/software/hmmer3/3.1b2/Userguide.pdf on pages 69 and 70\n",
    "    df.to_csv(\"D_rerio_Results.csv\", index = False)\n",
    "\n",
    "if __name__ == \"__main__\":\n",
    "    main()"
   ]
  }
 ]
}