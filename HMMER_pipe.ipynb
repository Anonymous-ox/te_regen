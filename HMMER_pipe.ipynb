{
 "metadata": {
  "language_info": {
   "codemirror_mode": {
    "name": "ipython",
    "version": 3
   },
   "file_extension": ".py",
   "mimetype": "text/x-python",
   "name": "python",
   "nbconvert_exporter": "python",
   "pygments_lexer": "ipython3",
   "version": "3.6.9-final"
  },
  "orig_nbformat": 2,
  "kernelspec": {
   "name": "python36964bit9a9bb9d439194c73aba524d2f5b435af",
   "display_name": "Python 3.6.9 64-bit",
   "language": "python"
  }
 },
 "nbformat": 4,
 "nbformat_minor": 2,
 "cells": [
  {
   "cell_type": "code",
   "execution_count": 2,
   "metadata": {},
   "outputs": [],
   "source": [
    "'''\n",
    "Input: *.fasta database from last step (step 1). \n",
    "Input: *.hmm and *.sto files as transposable element reference sequences with this analysis, downloaded from the Dfam database.\n",
    "Output: query result files in hmmer3-tab format\n",
    "Runs on Linux system\n",
    "'''\n",
    "import subprocess\n",
    "import sys\n",
    "import os, os.path\n",
    "\n",
    "def export_tblout (te_name, db_name):   ##run command line to store search output into hmmer3-tab files in the tutorial folder\n",
    "    output_name = db_name[:-6] + '_output'  #strip '.fasta' from the file name\n",
    "    subprocess.run(\"cd /home/yy/hmmer-3.3.1/tutorial/\", shell = True)\n",
    "    subprocess.run(\"hmmbuild {}.hmm {}.stk\".format(te_name, te_name), shell = True)\n",
    "    #subprocess.run(\"nhmmer --tblout /home/yy/hmmer-3.3.1/tutorial/{} {}.hmm {}\".format(output_name, te_name, db_name), shell = True) #make hmm table to target directory\n",
    "    subprocess.run(\"nhmmer --tblout /media/yy/Backup_Plus/HMMER_output/{} {}.hmm {}\".format(output_name, te_name, db_name), shell = True)\n",
    "    #subprocess.run(\"nhmmer {}.hmm {} > {}\".format(te_name, db_name, output_name), shell = True) #make hmm file\n",
    "\n",
    "def number_of_dbs ():   #returns the number of databases and their names in the directory\n",
    "    path = '/home/yy/hmmer-3.3.1/tutorial/'\n",
    "    list = os.listdir(path)\n",
    "    newlist = []\n",
    "    length = 0\n",
    "    for element in list:\n",
    "        jdstr = element[:15]\n",
    "        if jdstr == 'D.rerio_seqfrag':\n",
    "            length += 1\n",
    "            newlist.append(element)\n",
    "        else:\n",
    "            length = length\n",
    "    return(length, newlist)\n",
    "\n",
    "def main():  \n",
    "    path = '/home/yy/hmmer-3.3.1/tutorial/'\n",
    "    os.chdir(path) #fasta databases have been stored in this directoryte_name = 'dr_ex1'\n",
    "    number, newlist = number_of_dbs()    #number of databases in the directory\n",
    "    te_name = 'dr_ex1'  #name of the TE reference sequence in the directory\n",
    "    \n",
    "    for i in range(0, number):  #search query sequence against all the databases\n",
    "        db_name = newlist[i]\n",
    "        export_tblout(te_name, db_name) #export hmmer3-tab format query result\n",
    "\n",
    "if __name__ == \"__main__\":\n",
    "    main()"
   ]
  }
 ]
}