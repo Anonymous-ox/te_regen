{
 "metadata": {
  "language_info": {
   "codemirror_mode": {
    "name": "ipython",
    "version": 3
   },
   "file_extension": ".py",
   "mimetype": "text/x-python",
   "name": "python",
   "nbconvert_exporter": "python",
   "pygments_lexer": "ipython3",
   "version": "3.9.0-final"
  },
  "orig_nbformat": 2,
  "kernelspec": {
   "name": "python3",
   "display_name": "Python 3.9.0 64-bit",
   "metadata": {
    "interpreter": {
     "hash": "ac59ebe37160ed0dfa835113d9b8498d9f09ceb179beaac4002f036b9467c963"
    }
   }
  }
 },
 "nbformat": 4,
 "nbformat_minor": 2,
 "cells": [
  {
   "cell_type": "code",
   "execution_count": 1,
   "metadata": {},
   "outputs": [
    {
     "output_type": "stream",
     "name": "stdout",
     "text": [
      "Hello world\n"
     ]
    }
   ],
   "source": [
    "print('Hello world')"
   ]
  },
  {
   "cell_type": "code",
   "execution_count": 1,
   "metadata": {},
   "outputs": [],
   "source": [
    "import Bio #biopython\n",
    "import pandas as pd #import excel files\n",
    "#from Bio.Blast.Applications import NcbiblastformatterCommandline, NcbiblastnCommandline, NcbimakeblastdbCommandline\n",
    "from Bio import StringIO\n",
    "import sys\n",
    "import os\n",
    "import subprocess\n",
    "\n",
    "def get_coordinate (coor): #obtain coordinates as int and chromosome numbers without punctuations\n",
    "    csplit = coor.split()\n",
    "    chrom, start, end = csplit[0], csplit[1], csplit[3]\n",
    "    chrom = chrom.split(':')[0]\n",
    "    chromnum = int(chrom[3:])\n",
    "    l = len(start.split(','))\n",
    "    starta, enda = '', ''\n",
    "    for a in range(0, l): \n",
    "        enda += end.split(',')[a]\n",
    "        starta += start.split(',')[a]\n",
    "    return chromnum, starta, enda\n",
    "\n",
    "def generate_database(genname, chromnum, start, end):\n",
    "    os.chdir(r\"E:\\NCBI\\blast-2.11.0+\\db\") #set working directory\n",
    "    path = os.getcwd()\n",
    "    path = path + \"\\\\Drerio_Chr\" + str(chromnum)\n",
    "    #path = path + \"\\\\\" + spename  #to be added when there are multiple species\n",
    "    while True:\n",
    "        try:\n",
    "            os.mkdir(path)\n",
    "            break\n",
    "        except FileExistsError:\n",
    "            break\n",
    "    os.chdir(path)  #create a chromosome specific folder and set path to that folder   \n",
    "    start = int(start) - 500000\n",
    "    end = int(end) + 500000      #number of bps to take upstream and downstream the target gene\n",
    "    entrynum = chromnum + 11 \n",
    "    entry = \"NC_0071\" + str(entrynum) + \".7\"    #generate accession entry number\n",
    "    name = 'D.rerio_seqfrag_' + genname + '_Chr' + str(chromnum)\n",
    "    subprocess.run(\"blastdbcmd -db daniorerio1 -entry {} -range {}-{} > {}.fasta\".format(entry, str(start), str(end), name), shell = True)\n",
    "\n",
    "def main():\n",
    "    Bio.__version__ #check biopython version\n",
    "\n",
    "    #1.\tInput: genes with genomic coordinates, as well as all the homologues known\n",
    "    df = pd.read_excel(r'F:\\Biology\\03 Grant_Proposal\\10 Mini-project\\Regen_rel_genes.xlsx')\n",
    "\n",
    "    list_gen_coor = df['Genomic_coordinates'].to_list() #assign genomic coordinates to a list\n",
    "    list_gen_name = df['Gene'].to_list()    #assign gene names to a list\n",
    "    #list_species_name = df['Species'].to_list() #assign species names\n",
    "\n",
    "    for i in range(0, len(list_gen_coor)): #iteration of obtaining coordinates & creating folders + fasta files\n",
    "        coor = list_gen_coor[i]\n",
    "        genname = list_gen_name[i]\n",
    "        #spename = list_species_name[i]\n",
    "        chrom, start, end = get_coordinate(coor)\n",
    "        generate_database(genname, chrom, start, end)\n",
    "        #generate_database(spename, genname, chrom, start, end)\n",
    "\n",
    "if __name__ == \"__main__\":\n",
    "    main()\n",
    "\n",
    "#biopython genbank metadata\n",
    "#os make directory and change directory"
   ]
  },
  {
   "cell_type": "code",
   "execution_count": 32,
   "metadata": {},
   "outputs": [
    {
     "output_type": "stream",
     "name": "stdout",
     "text": [
      "E:\\NCBI\\blast-2.11.0+\\db\\Drerio_Chr1\n"
     ]
    }
   ],
   "source": [
    "import os\n",
    "path = os.getcwd()\n",
    "path = path + \"\\\\Drerio_Chr1\"\n",
    "print(path)\n",
    "os.mkdir(path)"
   ]
  },
  {
   "cell_type": "code",
   "execution_count": null,
   "metadata": {},
   "outputs": [],
   "source": [
    "#input: *.fasta database from last step. \n",
    "#input: *.hmm files as reference sequences with this analysis.\n",
    "\n",
    "#output: query result (hmmer3-tab)"
   ]
  },
  {
   "cell_type": "code",
   "execution_count": null,
   "metadata": {},
   "outputs": [],
   "source": [
    "#input: query result (hmmer3-tab)\n",
    "\n",
    "#output: visualisation of query result"
   ]
  }
 ]
}